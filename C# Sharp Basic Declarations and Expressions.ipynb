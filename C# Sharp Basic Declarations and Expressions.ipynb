{
 "cells": [
  {
   "attachments": {},
   "cell_type": "markdown",
   "metadata": {},
   "source": [
    "# What do you do with this notebook?\n",
    "\n",
    "I created this notebook to help refresh my memroy with the C# language, at this current point and time I have not used the language in years and so I have forgotten a few things and the purpose of this NOtebook is to help me remmebember some of those things...\n",
    "\n",
    "The Notebook was insipred by the exercises in this link https://github.com/dotnet/csharp-notebooks/tree/main/csharp-101"
   ]
  },
  {
   "cell_type": "code",
   "execution_count": 16,
   "metadata": {
    "dotnet_interactive": {
     "language": "csharp"
    },
    "polyglot_notebook": {
     "kernelName": "csharp"
    },
    "vscode": {
     "languageId": "polyglot-notebook"
    }
   },
   "outputs": [
    {
     "name": "stdout",
     "output_type": "stream",
     "text": [
      "Hello World! I am Imani Niyigena\r\n"
     ]
    }
   ],
   "source": [
    "Console.WriteLine(\"Hello World! I am Imani Niyigena\");"
   ]
  },
  {
   "cell_type": "code",
   "execution_count": 30,
   "metadata": {
    "dotnet_interactive": {
     "language": "csharp"
    },
    "polyglot_notebook": {
     "kernelName": "csharp"
    },
    "vscode": {
     "languageId": "polyglot-notebook"
    }
   },
   "outputs": [
    {
     "name": "stdout",
     "output_type": "stream",
     "text": [
      "Mereoleona Vermillion\r\n"
     ]
    }
   ],
   "source": [
    "var aBaddie = \"Mereoleona Vermillion\";\n",
    "Console.WriteLine(aBaddie);"
   ]
  },
  {
   "cell_type": "code",
   "execution_count": 32,
   "metadata": {
    "dotnet_interactive": {
     "language": "csharp"
    },
    "polyglot_notebook": {
     "kernelName": "csharp"
    },
    "vscode": {
     "languageId": "polyglot-notebook"
    }
   },
   "outputs": [
    {
     "name": "stdout",
     "output_type": "stream",
     "text": [
      "Ya neh Mereoleona Vermillion...  She is fire...\r\n"
     ]
    }
   ],
   "source": [
    "Console.WriteLine(\"Ya neh \" + aBaddie + \"... \" + \" She is fire...\");"
   ]
  },
  {
   "cell_type": "code",
   "execution_count": 39,
   "metadata": {
    "dotnet_interactive": {
     "language": "csharp"
    },
    "polyglot_notebook": {
     "kernelName": "csharp"
    },
    "vscode": {
     "languageId": "polyglot-notebook"
    }
   },
   "outputs": [
    {
     "name": "stdout",
     "output_type": "stream",
     "text": [
      "Mereoleona Vermillion is variable used to experess String Interpolation and She is fire...!!!\r\n"
     ]
    }
   ],
   "source": [
    "// This is called string interpolation. You can then add a $ before the opening quote to enable string interpolation for the string.\n",
    "\n",
    "aBaddie = \"Mereoleona Vermillion is variable used to experess String Interpolation\";\n",
    "Console.WriteLine($\"{aBaddie} and\" + \" She is fire...!!!\");\n",
    "\n",
    "//do this by placing the variable between {and } to tell C# to replace that text with the value of the variable."
   ]
  },
  {
   "cell_type": "code",
   "execution_count": 28,
   "metadata": {
    "dotnet_interactive": {
     "language": "csharp"
    },
    "polyglot_notebook": {
     "kernelName": "csharp"
    },
    "vscode": {
     "languageId": "polyglot-notebook"
    }
   },
   "outputs": [
    {
     "name": "stdout",
     "output_type": "stream",
     "text": [
      "My friends are Genos and Sasuke\r\n"
     ]
    }
   ],
   "source": [
    "//A string literal is text what represents a constant string. a constant string is string that ideally will not change\n",
    "\n",
    "string firstFriend = \"Genos\";\n",
    "string secondFriend = \"Sasuke\";\n",
    "Console.WriteLine($\"My friends are {firstFriend} and {secondFriend}\");"
   ]
  },
  {
   "cell_type": "code",
   "execution_count": 29,
   "metadata": {
    "dotnet_interactive": {
     "language": "csharp"
    },
    "polyglot_notebook": {
     "kernelName": "csharp"
    },
    "vscode": {
     "languageId": "polyglot-notebook"
    }
   },
   "outputs": [
    {
     "name": "stdout",
     "output_type": "stream",
     "text": [
      "The name Genos has 5 letters.\n",
      "The name Sasuke has 6 letters.\n"
     ]
    }
   ],
   "source": [
    "//You can find the length of a string using Length. Length is a property of a string and it returns the number of characters in that string.\n",
    "\n",
    "Console.WriteLine($\"The name {firstFriend} has {firstFriend.Length} letters.\");\n",
    "Console.WriteLine($\"The name {secondFriend} has {secondFriend.Length} letters.\");"
   ]
  }
 ],
 "metadata": {
  "language_info": {
   "name": "csharp"
  },
  "orig_nbformat": 4
 },
 "nbformat": 4,
 "nbformat_minor": 2
}
