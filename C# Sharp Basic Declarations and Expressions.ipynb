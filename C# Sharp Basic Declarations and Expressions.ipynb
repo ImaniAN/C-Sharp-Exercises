{
 "cells": [
  {
   "cell_type": "code",
   "execution_count": 1,
   "metadata": {
    "dotnet_interactive": {
     "language": "csharp"
    },
    "polyglot_notebook": {
     "kernelName": "csharp"
    },
    "vscode": {
     "languageId": "polyglot-notebook"
    }
   },
   "outputs": [
    {
     "name": "stdout",
     "output_type": "stream",
     "text": [
      "Hello World\n",
      "Imani Niyigena!\n"
     ]
    }
   ],
   "source": [
    " System.Console.WriteLine(\"Hello World\");\n",
    " System.Console.WriteLine(\"Imani Niyigena!\");"
   ]
  }
 ],
 "metadata": {
  "language_info": {
   "name": "csharp"
  },
  "orig_nbformat": 4
 },
 "nbformat": 4,
 "nbformat_minor": 2
}
