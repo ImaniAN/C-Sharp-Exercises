{
 "cells": [
  {
   "attachments": {},
   "cell_type": "markdown",
   "metadata": {},
   "source": [
    "# What do you do with this notebook?\n",
    "\n",
    "I created this notebook to help refresh my memroy with the C# language, at this current point and time I have not used the language in years and so I have forgotten a few things and the purpose of this NOtebook is to help me remmebember some of those things...\n",
    "\n",
    "The Notebook was insipred by the exercises in this link https://github.com/dotnet/csharp-notebooks/tree/main/csharp-101"
   ]
  },
  {
   "cell_type": "code",
   "execution_count": 16,
   "metadata": {
    "dotnet_interactive": {
     "language": "csharp"
    },
    "polyglot_notebook": {
     "kernelName": "csharp"
    },
    "vscode": {
     "languageId": "polyglot-notebook"
    }
   },
   "outputs": [
    {
     "name": "stdout",
     "output_type": "stream",
     "text": [
      "Hello World! I am Imani Niyigena\r\n"
     ]
    }
   ],
   "source": [
    "Console.WriteLine(\"Hello World! I am Imani Niyigena\");"
   ]
  },
  {
   "cell_type": "code",
   "execution_count": 30,
   "metadata": {
    "dotnet_interactive": {
     "language": "csharp"
    },
    "polyglot_notebook": {
     "kernelName": "csharp"
    },
    "vscode": {
     "languageId": "polyglot-notebook"
    }
   },
   "outputs": [
    {
     "name": "stdout",
     "output_type": "stream",
     "text": [
      "Mereoleona Vermillion\r\n"
     ]
    }
   ],
   "source": [
    "var aBaddie = \"Mereoleona Vermillion\";\n",
    "Console.WriteLine(aBaddie);"
   ]
  },
  {
   "cell_type": "code",
   "execution_count": 32,
   "metadata": {
    "dotnet_interactive": {
     "language": "csharp"
    },
    "polyglot_notebook": {
     "kernelName": "csharp"
    },
    "vscode": {
     "languageId": "polyglot-notebook"
    }
   },
   "outputs": [
    {
     "name": "stdout",
     "output_type": "stream",
     "text": [
      "Ya neh Mereoleona Vermillion...  She is fire...\r\n"
     ]
    }
   ],
   "source": [
    "Console.WriteLine(\"Ya neh \" + aBaddie + \"... \" + \" She is fire...\");"
   ]
  },
  {
   "cell_type": "code",
   "execution_count": 39,
   "metadata": {
    "dotnet_interactive": {
     "language": "csharp"
    },
    "polyglot_notebook": {
     "kernelName": "csharp"
    },
    "vscode": {
     "languageId": "polyglot-notebook"
    }
   },
   "outputs": [
    {
     "name": "stdout",
     "output_type": "stream",
     "text": [
      "Mereoleona Vermillion is variable used to experess String Interpolation and She is fire...!!!\r\n"
     ]
    }
   ],
   "source": [
    "// This is called string interpolation. You can then add a $ before the opening quote to enable string interpolation for the string.\n",
    "\n",
    "aBaddie = \"Mereoleona Vermillion is variable used to experess String Interpolation\";\n",
    "Console.WriteLine($\"{aBaddie} and\" + \" She is fire...!!!\");\n",
    "\n",
    "//do this by placing the variable between {and } to tell C# to replace that text with the value of the variable."
   ]
  },
  {
   "cell_type": "code",
   "execution_count": 2,
   "metadata": {
    "dotnet_interactive": {
     "language": "csharp"
    },
    "polyglot_notebook": {
     "kernelName": "csharp"
    },
    "vscode": {
     "languageId": "polyglot-notebook"
    }
   },
   "outputs": [
    {
     "name": "stdout",
     "output_type": "stream",
     "text": [
      "My friends are Satoru Gojo and Lelouch Lamperouge\r\n"
     ]
    }
   ],
   "source": [
    "//A string literal is text what represents a constant string. a constant string is string that ideally will not change\n",
    "\n",
    "string firstFriend = \"Satoru Gojo\";\n",
    "string secondFriend = \"Lelouch Lamperouge\";\n",
    "Console.WriteLine($\"My friends are {firstFriend} and {secondFriend}\");"
   ]
  },
  {
   "cell_type": "code",
   "execution_count": 3,
   "metadata": {
    "dotnet_interactive": {
     "language": "csharp"
    },
    "polyglot_notebook": {
     "kernelName": "csharp"
    },
    "vscode": {
     "languageId": "polyglot-notebook"
    }
   },
   "outputs": [
    {
     "name": "stdout",
     "output_type": "stream",
     "text": [
      "The name Satoru Gojo has 11 letters.\n",
      "The name Lelouch Lamperouge has 18 letters.\n"
     ]
    }
   ],
   "source": [
    "//You can find the length of a string using Length. Length is a property of a string and it returns the number of characters in that string.\n",
    "\n",
    "Console.WriteLine($\"The name {firstFriend} has {firstFriend.Length} letters.\");\n",
    "Console.WriteLine($\"The name {secondFriend} has {secondFriend.Length} letters.\");"
   ]
  },
  {
   "cell_type": "code",
   "execution_count": 5,
   "metadata": {
    "dotnet_interactive": {
     "language": "csharp"
    },
    "polyglot_notebook": {
     "kernelName": "csharp"
    },
    "vscode": {
     "languageId": "polyglot-notebook"
    }
   },
   "outputs": [
    {
     "name": "stdout",
     "output_type": "stream",
     "text": [
      "[      Hello World! I am Imani Niyigena       ]\n",
      "[Hello World! I am Imani Niyigena       ]\n",
      "[      Hello World! I am Imani Niyigena]\n",
      "[Hello World! I am Imani Niyigena]\n"
     ]
    }
   ],
   "source": [
    "/* Suppose your strings have leading or trailing spaces (also called white space) that you don't want to display.\n",
    "You want to trim the spaces from the strings. The Trim method and related methods TrimStart and TrimEnd do that work.\n",
    "You can just use those methods to remove leading and trailing spaces. */\n",
    "\n",
    "string greeting = \"      Hello World! I am Imani Niyigena       \";\n",
    "Console.WriteLine($\"[{greeting}]\");     // The original format of the string\n",
    "\n",
    "string trimmedGreeting = greeting.TrimStart();\n",
    "Console.WriteLine($\"[{trimmedGreeting}]\");      // The string trimmed on the left or trimmed at the starting of the string\n",
    "\n",
    "trimmedGreeting = greeting.TrimEnd();\n",
    "Console.WriteLine($\"[{trimmedGreeting}]\");      // The string trimmed on the right or trimmed at the ending of the string\n",
    "\n",
    "trimmedGreeting = greeting.Trim();\n",
    "Console.WriteLine($\"[{trimmedGreeting}]\");      // The string trimmed on the right and left or trimmed at the tarting of the string and the ending"
   ]
  },
  {
   "cell_type": "code",
   "execution_count": 9,
   "metadata": {
    "dotnet_interactive": {
     "language": "csharp"
    },
    "polyglot_notebook": {
     "kernelName": "csharp"
    },
    "vscode": {
     "languageId": "polyglot-notebook"
    }
   },
   "outputs": [
    {
     "name": "stdout",
     "output_type": "stream",
     "text": [
      "Hello World!\n",
      "Bite isi!\n"
     ]
    }
   ],
   "source": [
    "/* You can also replace substrings with other values. \n",
    "For example, in the code below, you can take \"Hello World!\" and replace \"Hello\" with \"Greetings\", to make \"Greetings World!\" */\n",
    "\n",
    "string sayHello = \"Hello World!\";\n",
    "Console.WriteLine(sayHello);\n",
    "sayHello = sayHello.Replace(\"Hello\", \"Bite\");\n",
    "sayHello = sayHello.Replace(\"World\", \"isi\");\n",
    "Console.WriteLine(sayHello);"
   ]
  },
  {
   "cell_type": "code",
   "execution_count": 14,
   "metadata": {
    "dotnet_interactive": {
     "language": "csharp"
    },
    "polyglot_notebook": {
     "kernelName": "csharp"
    },
    "vscode": {
     "languageId": "polyglot-notebook"
    }
   },
   "outputs": [
    {
     "name": "stdout",
     "output_type": "stream",
     "text": [
      "SATORU GOJO\n",
      "lelouch lamperouge\n",
      "WHISPER\n",
      "shout\n"
     ]
    }
   ],
   "source": [
    "//Sometimes you need your strings to be all UPPERCASE or all lowercase. ToUpper and ToLower do just that.\n",
    "\n",
    "Console.WriteLine(firstFriend.ToUpper());\n",
    "Console.WriteLine(secondFriend.ToLower());\n",
    "Console.WriteLine(\"WhiSPer\".ToUpper());\n",
    "Console.WriteLine(\"sHoUt\".ToLower());"
   ]
  },
  {
   "cell_type": "code",
   "execution_count": 24,
   "metadata": {
    "dotnet_interactive": {
     "language": "csharp"
    },
    "polyglot_notebook": {
     "kernelName": "csharp"
    },
    "vscode": {
     "languageId": "polyglot-notebook"
    }
   },
   "outputs": [
    {
     "name": "stdout",
     "output_type": "stream",
     "text": [
      "False\n",
      "True\n",
      "True\n",
      "False\n"
     ]
    }
   ],
   "source": [
    "/* Does your string contain another string within it? You can use Contains to find out!\n",
    "The Contains method returns a boolean. That's a type represented by the keyword bool that can hold two values: true or false.\n",
    "In this case, the method returns true when sought string is found, and false when it's not found. */\n",
    "\n",
    "string poemStanza = \"Do Not Go Gentle Into That Good Night... \";\n",
    "Console.WriteLine(poemStanza.Contains(\"good\"));\n",
    "Console.WriteLine(poemStanza.Contains(\"Good\"));\n",
    "Console.WriteLine(poemStanza.Contains(\".\"));\n",
    "Console.WriteLine(poemStanza.Contains(\"greetings\"));\n"
   ]
  },
  {
   "cell_type": "code",
   "execution_count": 69,
   "metadata": {
    "dotnet_interactive": {
     "language": "csharp"
    },
    "polyglot_notebook": {
     "kernelName": "csharp"
    },
    "vscode": {
     "languageId": "polyglot-notebook"
    }
   },
   "outputs": [
    {
     "name": "stdout",
     "output_type": "stream",
     "text": [
      "True\n",
      "False\n",
      "True\n",
      "False\n"
     ]
    }
   ],
   "source": [
    "/* StartsWith and EndsWith are methods similar to Contains, but more specific.\n",
    "They tell you if a string starts with or ends with the string you're checking.\n",
    "It has the same structure as Contains, that is: bigstring.StartsWith(substring)\n",
    " */\n",
    "Console.WriteLine(poemStanza.StartsWith(\"Do\")); //C# is case sensitive\n",
    "Console.WriteLine(poemStanza.StartsWith(\"do\")); //C# is case sensitive\n",
    "Console.WriteLine(poemStanza.EndsWith(\" \"));    //Spaces are considered as characters\n",
    "Console.WriteLine(poemStanza.EndsWith(\"...\"));  //Spaces are considered as characters"
   ]
  },
  {
   "cell_type": "code",
   "execution_count": 37,
   "metadata": {
    "dotnet_interactive": {
     "language": "csharp"
    },
    "polyglot_notebook": {
     "kernelName": "csharp"
    },
    "vscode": {
     "languageId": "polyglot-notebook"
    }
   },
   "outputs": [
    {
     "name": "stdout",
     "output_type": "stream",
     "text": [
      "29\r\n"
     ]
    }
   ],
   "source": [
    "//You have a few integers defined below. An integer is a positive or negative whole number.\n",
    "\n",
    "//Addition\n",
    "int a = 22;\n",
    "int b = 7;\n",
    "int c = a + b;\n",
    "Console.WriteLine(c);"
   ]
  },
  {
   "cell_type": "code",
   "execution_count": 38,
   "metadata": {
    "dotnet_interactive": {
     "language": "csharp"
    },
    "polyglot_notebook": {
     "kernelName": "csharp"
    },
    "vscode": {
     "languageId": "polyglot-notebook"
    }
   },
   "outputs": [
    {
     "name": "stdout",
     "output_type": "stream",
     "text": [
      "15\r\n"
     ]
    }
   ],
   "source": [
    "//Subtraction\n",
    "int c = a - b;\n",
    "Console.WriteLine(c);"
   ]
  },
  {
   "cell_type": "code",
   "execution_count": 39,
   "metadata": {
    "dotnet_interactive": {
     "language": "csharp"
    },
    "polyglot_notebook": {
     "kernelName": "csharp"
    },
    "vscode": {
     "languageId": "polyglot-notebook"
    }
   },
   "outputs": [
    {
     "name": "stdout",
     "output_type": "stream",
     "text": [
      "154\r\n"
     ]
    }
   ],
   "source": [
    "//Multiplication\n",
    "int c = a * b;\n",
    "Console.WriteLine(c);"
   ]
  },
  {
   "cell_type": "code",
   "execution_count": 40,
   "metadata": {
    "dotnet_interactive": {
     "language": "csharp"
    },
    "polyglot_notebook": {
     "kernelName": "csharp"
    },
    "vscode": {
     "languageId": "polyglot-notebook"
    }
   },
   "outputs": [
    {
     "name": "stdout",
     "output_type": "stream",
     "text": [
      "3\r\n"
     ]
    }
   ],
   "source": [
    "//Division\n",
    "int c = a / b;\n",
    "Console.WriteLine(c);"
   ]
  },
  {
   "cell_type": "code",
   "execution_count": 70,
   "metadata": {
    "dotnet_interactive": {
     "language": "csharp"
    },
    "polyglot_notebook": {
     "kernelName": "csharp"
    },
    "vscode": {
     "languageId": "polyglot-notebook"
    }
   },
   "outputs": [
    {
     "name": "stdout",
     "output_type": "stream",
     "text": [
      "11\r\n"
     ]
    }
   ],
   "source": [
    "//C# follows the order of operation when it comes to math. That is, it does multiplication and division first, then addition and subtraction.\n",
    "\n",
    "int a = 15/2;\n",
    "int b = 12/5;\n",
    "int c = 7/3;\n",
    "int d = a + b * c;\n",
    "Console.WriteLine(d);\n",
    "\n",
    "/* Integer math will always produce integers.\n",
    "What that means is that even when math should result in a decimal or fraction, the answer will be truncated to a whole number. */"
   ]
  },
  {
   "cell_type": "code",
   "execution_count": 68,
   "metadata": {
    "dotnet_interactive": {
     "language": "csharp"
    },
    "polyglot_notebook": {
     "kernelName": "csharp"
    },
    "vscode": {
     "languageId": "polyglot-notebook"
    }
   },
   "outputs": [
    {
     "name": "stdout",
     "output_type": "stream",
     "text": [
      "8\r\n"
     ]
    }
   ],
   "source": [
    "/* You can also force different orders by putting parentheses around whatever you want done first.\n",
    "You can make math as long and complicated as you want.\n",
    " */\n",
    "int d = (a + b) - 6 * c + (12 * 4) / 3 + 12;\n",
    "Console.WriteLine(d);"
   ]
  },
  {
   "cell_type": "code",
   "execution_count": 67,
   "metadata": {
    "dotnet_interactive": {
     "language": "csharp"
    },
    "polyglot_notebook": {
     "kernelName": "csharp"
    },
    "vscode": {
     "languageId": "polyglot-notebook"
    }
   },
   "outputs": [
    {
     "name": "stdout",
     "output_type": "stream",
     "text": [
      "quotient: 3\n",
      "remainder: 1\n"
     ]
    }
   ],
   "source": [
    "/* when doing math with integers, you only get integers as a result, no decimals or fractions.\n",
    "The numbers are truncated, which just means that the remainder is cut off. You can find the remainder with %, the remainder operator.\n",
    "The remainder is the left over amount from a division problem. */\n",
    "\n",
    "int a = 8;\n",
    "int b = 14;\n",
    "int c = 7;\n",
    "int d = (a + b) / c;\n",
    "int e = (a + b) % c;\n",
    "Console.WriteLine($\"quotient: {d}\");\n",
    "Console.WriteLine($\"remainder: {e}\");"
   ]
  },
  {
   "cell_type": "code",
   "execution_count": 56,
   "metadata": {
    "dotnet_interactive": {
     "language": "csharp"
    },
    "polyglot_notebook": {
     "kernelName": "csharp"
    },
    "vscode": {
     "languageId": "polyglot-notebook"
    }
   },
   "outputs": [
    {
     "name": "stdout",
     "output_type": "stream",
     "text": [
      "The range of integers is -2147483648 to 2147483647\r\n"
     ]
    }
   ],
   "source": [
    "//Because of how integers are structured in coding, there is a limit to their size.\n",
    "\n",
    "int max = int.MaxValue;\n",
    "int min = int.MinValue;\n",
    "Console.WriteLine($\"The range of integers is {min} to {max}\");"
   ]
  },
  {
   "cell_type": "code",
   "execution_count": 58,
   "metadata": {
    "dotnet_interactive": {
     "language": "csharp"
    },
    "polyglot_notebook": {
     "kernelName": "csharp"
    },
    "vscode": {
     "languageId": "polyglot-notebook"
    }
   },
   "outputs": [
    {
     "name": "stdout",
     "output_type": "stream",
     "text": [
      "An example of overflow: -2147483646\r\n"
     ]
    }
   ],
   "source": [
    "//That's still a pretty big range! But what happens if you try to go beyond?\n",
    "\n",
    "int what = max + 3;\n",
    "Console.WriteLine($\"An example of overflow: {what}\");\n",
    "\n",
    "/* That number, which should be really big, is now close to the minimum!\n",
    "This is because an overflow \"wraps,\" going back to the minimum and then continuing to count. */"
   ]
  },
  {
   "cell_type": "code",
   "execution_count": 59,
   "metadata": {
    "dotnet_interactive": {
     "language": "csharp"
    },
    "polyglot_notebook": {
     "kernelName": "csharp"
    },
    "vscode": {
     "languageId": "polyglot-notebook"
    }
   },
   "outputs": [
    {
     "name": "stdout",
     "output_type": "stream",
     "text": [
      "3,142857142857143\r\n"
     ]
    }
   ],
   "source": [
    "//Doubles are another form of numbers. They can hold and answer in floating point.\n",
    "\n",
    "double a = 8;\n",
    "double b = 14;\n",
    "double c = 7;\n",
    "double d = (a + b) / c;\n",
    "Console.WriteLine(d);"
   ]
  },
  {
   "cell_type": "code",
   "execution_count": 62,
   "metadata": {
    "dotnet_interactive": {
     "language": "csharp"
    },
    "polyglot_notebook": {
     "kernelName": "csharp"
    },
    "vscode": {
     "languageId": "polyglot-notebook"
    }
   },
   "outputs": [
    {
     "name": "stdout",
     "output_type": "stream",
     "text": [
      "The range of double is -1,7976931348623157E+308 to 1,7976931348623157E+308\r\n"
     ]
    }
   ],
   "source": [
    "//Find out the range of doubles\n",
    "\n",
    "double max = double.MaxValue;\n",
    "double min = double.MinValue;\n",
    "Console.WriteLine($\"The range of double is {min} to {max}\");"
   ]
  },
  {
   "cell_type": "code",
   "execution_count": 71,
   "metadata": {
    "dotnet_interactive": {
     "language": "csharp"
    },
    "polyglot_notebook": {
     "kernelName": "csharp"
    },
    "vscode": {
     "languageId": "polyglot-notebook"
    }
   },
   "outputs": [
    {
     "name": "stdout",
     "output_type": "stream",
     "text": [
      "0,3333333333333333\r\n"
     ]
    }
   ],
   "source": [
    "//doubles aren't perfect. They also have rounding errors.\n",
    "\n",
    "double third = 1.0 / 3.0;\n",
    "Console.WriteLine(third);   //Technically, 1/3 converted to decimal should be 3 repeating infinitely, but that isn't practical in coding.\n",
    "\n",
    "//It's good to be aware of though, if you're working in extremely precise variables."
   ]
  },
  {
   "cell_type": "code",
   "execution_count": 72,
   "metadata": {
    "dotnet_interactive": {
     "language": "csharp"
    },
    "polyglot_notebook": {
     "kernelName": "csharp"
    },
    "vscode": {
     "languageId": "polyglot-notebook"
    }
   },
   "outputs": [
    {
     "name": "stdout",
     "output_type": "stream",
     "text": [
      "The range of the decimal type is -79228162514264337593543950335 to 79228162514264337593543950335\r\n"
     ]
    }
   ],
   "source": [
    "//The Decimal type is similar to doubles. They don't have as big a range, but they do have much higher precision.\n",
    "\n",
    "decimal min = decimal.MinValue;\n",
    "decimal max = decimal.MaxValue;\n",
    "Console.WriteLine($\"The range of the decimal type is {min} to {max}\");"
   ]
  },
  {
   "cell_type": "code",
   "execution_count": 73,
   "metadata": {
    "dotnet_interactive": {
     "language": "csharp"
    },
    "polyglot_notebook": {
     "kernelName": "csharp"
    },
    "vscode": {
     "languageId": "polyglot-notebook"
    }
   },
   "outputs": [
    {
     "name": "stdout",
     "output_type": "stream",
     "text": [
      "3,142857142857143\n",
      "3,1428571428571428571428571429\n"
     ]
    }
   ],
   "source": [
    "//How do doubles and decimals compare in precision\n",
    "\n",
    "double a = 22.0;\n",
    "double b = 7.0;\n",
    "Console.WriteLine(a / b);\n",
    "\n",
    "decimal c = 22.0M;\n",
    "decimal d = 7.0M;\n",
    "Console.WriteLine(c / d);"
   ]
  },
  {
   "cell_type": "code",
   "execution_count": 77,
   "metadata": {
    "dotnet_interactive": {
     "language": "csharp"
    },
    "polyglot_notebook": {
     "kernelName": "csharp"
    },
    "vscode": {
     "languageId": "polyglot-notebook"
    }
   },
   "outputs": [
    {
     "name": "stdout",
     "output_type": "stream",
     "text": [
      "The answer is greater than 10.\r\n"
     ]
    }
   ],
   "source": [
    "//If statements makes decisions.\n",
    "\n",
    "int a = 5;\n",
    "int b = 6;\n",
    "if (a + b > 10)     //This will execute the code below if the expression evaluates to true\n",
    "    Console.WriteLine(\"The answer is greater than 10.\");    //This code only runs because the conditional statement from above is true\n",
    "\n",
    "//if statement is saying \"if a plus b is greater than 10, write the line 'The answer is greater than 10'\"."
   ]
  },
  {
   "cell_type": "code",
   "execution_count": 83,
   "metadata": {
    "dotnet_interactive": {
     "language": "csharp"
    },
    "polyglot_notebook": {
     "kernelName": "csharp"
    },
    "vscode": {
     "languageId": "polyglot-notebook"
    }
   },
   "outputs": [
    {
     "name": "stdout",
     "output_type": "stream",
     "text": [
      "This condition is False\r\n"
     ]
    }
   ],
   "source": [
    "//The condition is the statement in parentheses after the if. A condition is a boolean, which means it has to return a true or false.\n",
    "//That means using symbols such as >, <, <=, >= or ==\n",
    "\n",
    "bool outcome = (22/7) > 5;\n",
    "Console.WriteLine(\"This condition is \" + outcome);"
   ]
  },
  {
   "cell_type": "code",
   "execution_count": 90,
   "metadata": {
    "dotnet_interactive": {
     "language": "csharp"
    },
    "polyglot_notebook": {
     "kernelName": "csharp"
    },
    "vscode": {
     "languageId": "polyglot-notebook"
    }
   },
   "outputs": [
    {
     "name": "stdout",
     "output_type": "stream",
     "text": [
      "The answer is greater than 10\r\n"
     ]
    }
   ],
   "source": [
    "//what if you want something to happen in both cases? else is what happens if the conditional comes out false.\n",
    "\n",
    "int a = 5;\n",
    "int b = 13;\n",
    "if (a + b > 10)\n",
    "    Console.WriteLine(\"The answer is greater than 10\");\n",
    "else\n",
    "    Console.WriteLine(\"The answer is not greater than 10\");"
   ]
  },
  {
   "cell_type": "code",
   "execution_count": 97,
   "metadata": {
    "dotnet_interactive": {
     "language": "csharp"
    },
    "polyglot_notebook": {
     "kernelName": "csharp"
    },
    "vscode": {
     "languageId": "polyglot-notebook"
    }
   },
   "outputs": [
    {
     "name": "stdout",
     "output_type": "stream",
     "text": [
      "The answer is not greater than 10\n",
      "Or the first number is not equal to the second\n"
     ]
    }
   ],
   "source": [
    "//want more complex code in your if statements? That's great, just add curly braces around what you want done.\n",
    "\n",
    "int c = 2023;\n",
    "if ((a + b + c > 10) && (a == b)) //&& means \"and\". It's a way to link up multiple conditionals. You can also use || as \"or\".\n",
    "{\n",
    "    Console.WriteLine(\"The answer is greater than 10\");\n",
    "    Console.WriteLine(\"And the first number is equal to the second\");\n",
    "}\n",
    "else\n",
    "{\n",
    "    Console.WriteLine(\"The answer is not greater than 10\"); //Remeber that conditional operrators execute in order and change the \"outcome\"\n",
    "    Console.WriteLine(\"Or the first number is not equal to the second\");\n",
    "}\n",
    "\n",
    "//The if conditional above checks that adding a, b, and c up is greater than 10 AND that a equals b.\n",
    "//If both are true, it goes into the if statement; otherwise, it goes into the else part."
   ]
  },
  {
   "cell_type": "code",
   "execution_count": 101,
   "metadata": {
    "dotnet_interactive": {
     "language": "csharp"
    },
    "polyglot_notebook": {
     "kernelName": "csharp"
    },
    "vscode": {
     "languageId": "polyglot-notebook"
    }
   },
   "outputs": [
    {
     "name": "stdout",
     "output_type": "stream",
     "text": [
      "Hello World! The counter is 0\n",
      "Hello World! The counter is 1\n",
      "Hello World! The counter is 2\n",
      "Hello World! The counter is 3\n",
      "Hello World! The counter is 4\n",
      "Hello World! The counter is 5\n",
      "Hello World! The counter is 6\n",
      "Hello World! The counter is 7\n",
      "Hello World! The counter is 8\n",
      "Hello World! The counter is 9\n"
     ]
    }
   ],
   "source": [
    "//Loops are a way to repeat an action multiple times\n",
    "\n",
    "int counter = 0;\n",
    "while (counter < 10)\n",
    "{\n",
    "  Console.WriteLine($\"Bite isi! The counter is {counter}\");\n",
    "  counter++;\n",
    "}"
   ]
  },
  {
   "cell_type": "code",
   "execution_count": 102,
   "metadata": {
    "dotnet_interactive": {
     "language": "csharp"
    },
    "polyglot_notebook": {
     "kernelName": "csharp"
    },
    "vscode": {
     "languageId": "polyglot-notebook"
    }
   },
   "outputs": [
    {
     "name": "stdout",
     "output_type": "stream",
     "text": [
      "Hello World! The counter is 0\n",
      "Hello World! The counter is 1\n",
      "Hello World! The counter is 2\n",
      "Hello World! The counter is 3\n",
      "Hello World! The counter is 4\n",
      "Hello World! The counter is 5\n",
      "Hello World! The counter is 6\n",
      "Hello World! The counter is 7\n",
      "Hello World! The counter is 8\n",
      "Hello World! The counter is 9\n"
     ]
    }
   ],
   "source": [
    "int counter = 0;\n",
    "do\n",
    "{\n",
    "  Console.WriteLine($\"Hello World! The counter is {counter}\");\n",
    "  counter++;\n",
    "} while (counter < 10);"
   ]
  },
  {
   "cell_type": "code",
   "execution_count": 1,
   "metadata": {
    "dotnet_interactive": {
     "language": "csharp"
    },
    "polyglot_notebook": {
     "kernelName": "csharp"
    },
    "vscode": {
     "languageId": "polyglot-notebook"
    }
   },
   "outputs": [
    {
     "name": "stdout",
     "output_type": "stream",
     "text": [
      "Hello World! The counter is 0\n",
      "Hello World! The counter is 1\n",
      "Hello World! The counter is 2\n",
      "Hello World! The counter is 3\n",
      "Hello World! The counter is 4\n",
      "Hello World! The counter is 5\n",
      "Hello World! The counter is 6\n",
      "Hello World! The counter is 7\n",
      "Hello World! The counter is 8\n",
      "Hello World! The counter is 9\n"
     ]
    }
   ],
   "source": [
    "//for is one the most common loops. It will repeat an action for a specific amount of turns\n",
    "\n",
    "for (int counter = 0; counter < 10; counter++)\n",
    "{\n",
    "  Console.WriteLine($\"Hello World! The counter is {counter}\");\n",
    "}"
   ]
  },
  {
   "cell_type": "code",
   "execution_count": 29,
   "metadata": {
    "dotnet_interactive": {
     "language": "csharp"
    },
    "polyglot_notebook": {
     "kernelName": "csharp"
    },
    "vscode": {
     "languageId": "polyglot-notebook"
    }
   },
   "outputs": [
    {
     "name": "stdout",
     "output_type": "stream",
     "text": [
      "Numbers from 1 to 30 divisible by 3: \n",
      "3 6 9 12 15 18 21 24 27 30 \n",
      "Sum of numbers divisible by 3: 165\n"
     ]
    }
   ],
   "source": [
    "//C# code to find the sum of all integers that are divisible by some integer value.\n",
    "\n",
    "int sum = 0;\n",
    "int limit = 30;\n",
    "int divider = 3;\n",
    "Console.WriteLine($\"Numbers from 1 to {limit} divisible by {divider}: \");\n",
    "for (int i = 1; i <= limit; i++)\n",
    "//I then start the loop from i = 3 and increment i by 3 in each iteration, ensuring that I only consider numbers divisible by 3 within the range of 1 to 20.\n",
    "{\n",
    "    if (i % divider == 0)\n",
    "    {\n",
    "Console.Write(i + \" \");//print the numbers on the same line, separated by a space.\n",
    "sum += i; // The sum is calculated by adding i to the sum variable in each iteration.\n",
    "    }\n",
    "}\n",
    "Console.WriteLine($\"\\nSum of numbers divisible by {divider}: \" + sum);\n",
    "\n",
    "//I wrote this based on what I have learnt so far... defintely is not the best looking code..."
   ]
  },
  {
   "cell_type": "code",
   "execution_count": 44,
   "metadata": {
    "dotnet_interactive": {
     "language": "csharp"
    },
    "polyglot_notebook": {
     "kernelName": "csharp"
    },
    "vscode": {
     "languageId": "polyglot-notebook"
    }
   },
   "outputs": [
    {
     "name": "stdout",
     "output_type": "stream",
     "text": [
      "Numbers from 1 to 30 divisible by 5: \n",
      "5 10 15 20 25 30\n",
      "Sum of numbers divisible by 5: 105\n"
     ]
    }
   ],
   "source": [
    "//My take on the exercise from above\n",
    "\n",
    "int start = 1;\n",
    "int end = 30;\n",
    "int divider = 5;\n",
    "\n",
    "/*I used the Enumerable.Range method to generate a sequence of numbers from 1 to 20.\n",
    "Then, I use the Where method to filter the numbers and keep only those that are divisible by 3.\n",
    "The filtered numbers are stored in the divisibleByThree list using the ToList method. */\n",
    "var divisibleByThree = Enumerable.Range(start, end).Where(x => x % divider == 0).ToList();\n",
    "\n",
    "\n",
    "/*I use Console.WriteLine and string.Join to display the numbers from the divisibleByThree list\n",
    "as a space-separated string. */\n",
    "Console.WriteLine($\"Numbers from 1 to {end} divisible by {divider}: \");\n",
    "Console.WriteLine(string.Join(\" \", divisibleByThree));\n",
    "\n",
    "\n",
    "//I calculate the sum of the numbers in the list using the Sum() method of the List<int> class.\n",
    "int sum = divisibleByThree.Sum(); //The sum is stored in the sum variable.\n",
    "Console.WriteLine($\"Sum of numbers divisible by {divider}: \" + sum);\n",
    "\n",
    "//less lines of code and I use the methods within the data type..."
   ]
  },
  {
   "cell_type": "code",
   "execution_count": 52,
   "metadata": {
    "dotnet_interactive": {
     "language": "csharp"
    },
    "polyglot_notebook": {
     "kernelName": "csharp"
    },
    "vscode": {
     "languageId": "polyglot-notebook"
    }
   },
   "outputs": [
    {
     "name": "stdout",
     "output_type": "stream",
     "text": [
      "Hello <KAGE>!\n",
      "Hello LEVI ACKERMAN!\n",
      "Hello MADARA UCHIHA!\n"
     ]
    }
   ],
   "source": [
    "////when you have a variable, but don't know/care what the variable type is.\n",
    "//a list of strings. In place of string, you can put in int, double, or any data type.\n",
    "var names = new List<string> { \"<kage>\", \"Levi Ackerman\", \"Madara Uchiha\" }; \n",
    "foreach (var name in names) //names is the whole list that contains plural names. name is an individual item in names\n",
    "{\n",
    "    Console.WriteLine($\"Hello {name.ToUpper()}!\"); //string method\n",
    "}"
   ]
  },
  {
   "cell_type": "code",
   "execution_count": 54,
   "metadata": {
    "dotnet_interactive": {
     "language": "csharp"
    },
    "polyglot_notebook": {
     "kernelName": "csharp"
    },
    "vscode": {
     "languageId": "polyglot-notebook"
    }
   },
   "outputs": [
    {
     "name": "stdout",
     "output_type": "stream",
     "text": [
      "Hello <anbu>\n",
      "Hello joseph joestar\n",
      "Hello madara uchiha\n"
     ]
    }
   ],
   "source": [
    "//Alternative way to do the exercise from above\n",
    "\n",
    "//a list of strings. In place of string, you can put in int, double, or any data type.\n",
    "var names = new List<string> { \"<anbu>\", \"Joseph Joestar\", \"Naruto Uzimaki\"};\n",
    "for (int i = 0;i < names.Count; i++)\n",
    "{\n",
    "    Console.WriteLine($\"Hello {names[i].ToLower()}\");\n",
    "}"
   ]
  },
  {
   "cell_type": "code",
   "execution_count": 57,
   "metadata": {
    "dotnet_interactive": {
     "language": "csharp"
    },
    "polyglot_notebook": {
     "kernelName": "csharp"
    },
    "vscode": {
     "languageId": "polyglot-notebook"
    }
   },
   "outputs": [
    {
     "name": "stdout",
     "output_type": "stream",
     "text": [
      "Hello <JONIN>!\n",
      "Hello ITACHI UCHIHA!\n",
      "Hello MEREOLEONA VERMILLION!\n",
      "Hello IMANI NIYIGENA!\n"
     ]
    }
   ],
   "source": [
    "//the method Add(), which tacks on a new item to the end of the list.\n",
    "\n",
    "var names = new List<string> { \"<jonin>\", \"Itachi Uchiha\", \"Mereoleona Vermillion\"};\n",
    "\n",
    "names.Add(\"Imani Niyigena\");\n",
    "\n",
    "foreach (var name in names)\n",
    "{\n",
    "    Console.WriteLine($\"Hello {name.ToUpper()}!\");\n",
    "}"
   ]
  },
  {
   "cell_type": "code",
   "execution_count": 60,
   "metadata": {
    "dotnet_interactive": {
     "language": "csharp"
    },
    "polyglot_notebook": {
     "kernelName": "csharp"
    },
    "vscode": {
     "languageId": "polyglot-notebook"
    }
   },
   "outputs": [
    {
     "name": "stdout",
     "output_type": "stream",
     "text": [
      "Hello ANA\n",
      "Hello FELIPE\n"
     ]
    }
   ],
   "source": [
    "//You can also remove names.\n",
    "\n",
    "var names = new List<string> { \"<name>\", \"<jonin>\", \"<anbu>\", \"<kage>\"};\n",
    "\n",
    "names.Remove(\"<name>\");\n",
    "\n",
    "for (int i = 0;i < names.Count; i++)\n",
    "{\n",
    "    Console.WriteLine($\"Hello {names[i].ToUpper()}\");\n",
    "}"
   ]
  },
  {
   "cell_type": "code",
   "execution_count": 67,
   "metadata": {
    "dotnet_interactive": {
     "language": "csharp"
    },
    "polyglot_notebook": {
     "kernelName": "csharp"
    },
    "vscode": {
     "languageId": "polyglot-notebook"
    }
   },
   "outputs": [
    {
     "name": "stdout",
     "output_type": "stream",
     "text": [
      "Itachi Uchiha\r\n"
     ]
    }
   ],
   "source": [
    "//to print out one friend\n",
    "\n",
    "var names = new List<string> {\"Itachi Uchiha\", \"Mereoleona Vermillion\", \"Joseph Joestar\", \"Naruto Uzimaki\", \"Levi Ackerman\", \"Madara Uchiha\"};\n",
    "Console.WriteLine(names[0]);\n",
    "\n",
    "//Don't forget that lists are \"0\" based. The first spot is the \"0th\" spot."
   ]
  },
  {
   "cell_type": "code",
   "execution_count": 70,
   "metadata": {
    "dotnet_interactive": {
     "language": "csharp"
    },
    "polyglot_notebook": {
     "kernelName": "csharp"
    },
    "vscode": {
     "languageId": "polyglot-notebook"
    }
   },
   "outputs": [
    {
     "name": "stdout",
     "output_type": "stream",
     "text": [
      "Found Madara Uchiha at 5\r\n"
     ]
    }
   ],
   "source": [
    "var names = new List<string> {\"Itachi Uchiha\", \"Mereoleona Vermillion\", \"Joseph Joestar\", \"Naruto Uzimaki\", \"Levi Ackerman\", \"Madara Uchiha\"};\n",
    "string name = \"Itachi Uchiha\";\n",
    "var index = names.IndexOf(name);\n",
    "Console.WriteLine($\"Found {name} at {index}\");"
   ]
  },
  {
   "cell_type": "code",
   "execution_count": null,
   "metadata": {
    "dotnet_interactive": {
     "language": "csharp"
    },
    "polyglot_notebook": {
     "kernelName": "csharp"
    },
    "vscode": {
     "languageId": "polyglot-notebook"
    }
   },
   "outputs": [],
   "source": []
  },
  {
   "cell_type": "code",
   "execution_count": null,
   "metadata": {
    "dotnet_interactive": {
     "language": "csharp"
    },
    "polyglot_notebook": {
     "kernelName": "csharp"
    },
    "vscode": {
     "languageId": "polyglot-notebook"
    }
   },
   "outputs": [],
   "source": []
  },
  {
   "cell_type": "code",
   "execution_count": null,
   "metadata": {
    "dotnet_interactive": {
     "language": "csharp"
    },
    "polyglot_notebook": {
     "kernelName": "csharp"
    },
    "vscode": {
     "languageId": "polyglot-notebook"
    }
   },
   "outputs": [],
   "source": []
  },
  {
   "cell_type": "code",
   "execution_count": null,
   "metadata": {
    "dotnet_interactive": {
     "language": "csharp"
    },
    "polyglot_notebook": {
     "kernelName": "csharp"
    },
    "vscode": {
     "languageId": "polyglot-notebook"
    }
   },
   "outputs": [],
   "source": []
  },
  {
   "cell_type": "code",
   "execution_count": null,
   "metadata": {
    "dotnet_interactive": {
     "language": "csharp"
    },
    "polyglot_notebook": {
     "kernelName": "csharp"
    },
    "vscode": {
     "languageId": "polyglot-notebook"
    }
   },
   "outputs": [],
   "source": []
  },
  {
   "cell_type": "code",
   "execution_count": null,
   "metadata": {
    "dotnet_interactive": {
     "language": "csharp"
    },
    "polyglot_notebook": {
     "kernelName": "csharp"
    },
    "vscode": {
     "languageId": "polyglot-notebook"
    }
   },
   "outputs": [],
   "source": []
  },
  {
   "cell_type": "code",
   "execution_count": null,
   "metadata": {
    "dotnet_interactive": {
     "language": "csharp"
    },
    "polyglot_notebook": {
     "kernelName": "csharp"
    },
    "vscode": {
     "languageId": "polyglot-notebook"
    }
   },
   "outputs": [],
   "source": []
  },
  {
   "cell_type": "code",
   "execution_count": null,
   "metadata": {
    "dotnet_interactive": {
     "language": "csharp"
    },
    "polyglot_notebook": {
     "kernelName": "csharp"
    },
    "vscode": {
     "languageId": "polyglot-notebook"
    }
   },
   "outputs": [],
   "source": []
  },
  {
   "cell_type": "code",
   "execution_count": null,
   "metadata": {
    "dotnet_interactive": {
     "language": "csharp"
    },
    "polyglot_notebook": {
     "kernelName": "csharp"
    },
    "vscode": {
     "languageId": "polyglot-notebook"
    }
   },
   "outputs": [],
   "source": []
  },
  {
   "cell_type": "code",
   "execution_count": null,
   "metadata": {
    "dotnet_interactive": {
     "language": "csharp"
    },
    "polyglot_notebook": {
     "kernelName": "csharp"
    },
    "vscode": {
     "languageId": "polyglot-notebook"
    }
   },
   "outputs": [],
   "source": []
  },
  {
   "cell_type": "code",
   "execution_count": null,
   "metadata": {
    "dotnet_interactive": {
     "language": "csharp"
    },
    "polyglot_notebook": {
     "kernelName": "csharp"
    },
    "vscode": {
     "languageId": "polyglot-notebook"
    }
   },
   "outputs": [],
   "source": []
  },
  {
   "cell_type": "code",
   "execution_count": null,
   "metadata": {
    "dotnet_interactive": {
     "language": "csharp"
    },
    "polyglot_notebook": {
     "kernelName": "csharp"
    },
    "vscode": {
     "languageId": "polyglot-notebook"
    }
   },
   "outputs": [],
   "source": []
  },
  {
   "cell_type": "code",
   "execution_count": null,
   "metadata": {
    "dotnet_interactive": {
     "language": "csharp"
    },
    "polyglot_notebook": {
     "kernelName": "csharp"
    },
    "vscode": {
     "languageId": "polyglot-notebook"
    }
   },
   "outputs": [],
   "source": []
  },
  {
   "cell_type": "code",
   "execution_count": null,
   "metadata": {
    "dotnet_interactive": {
     "language": "csharp"
    },
    "polyglot_notebook": {
     "kernelName": "csharp"
    },
    "vscode": {
     "languageId": "polyglot-notebook"
    }
   },
   "outputs": [],
   "source": []
  },
  {
   "cell_type": "code",
   "execution_count": null,
   "metadata": {
    "dotnet_interactive": {
     "language": "csharp"
    },
    "polyglot_notebook": {
     "kernelName": "csharp"
    },
    "vscode": {
     "languageId": "polyglot-notebook"
    }
   },
   "outputs": [],
   "source": []
  },
  {
   "cell_type": "code",
   "execution_count": null,
   "metadata": {
    "dotnet_interactive": {
     "language": "csharp"
    },
    "polyglot_notebook": {
     "kernelName": "csharp"
    },
    "vscode": {
     "languageId": "polyglot-notebook"
    }
   },
   "outputs": [],
   "source": []
  },
  {
   "cell_type": "code",
   "execution_count": null,
   "metadata": {
    "dotnet_interactive": {
     "language": "csharp"
    },
    "polyglot_notebook": {
     "kernelName": "csharp"
    },
    "vscode": {
     "languageId": "polyglot-notebook"
    }
   },
   "outputs": [],
   "source": []
  },
  {
   "cell_type": "code",
   "execution_count": null,
   "metadata": {
    "dotnet_interactive": {
     "language": "csharp"
    },
    "polyglot_notebook": {
     "kernelName": "csharp"
    },
    "vscode": {
     "languageId": "polyglot-notebook"
    }
   },
   "outputs": [],
   "source": []
  },
  {
   "cell_type": "code",
   "execution_count": null,
   "metadata": {
    "dotnet_interactive": {
     "language": "csharp"
    },
    "polyglot_notebook": {
     "kernelName": "csharp"
    },
    "vscode": {
     "languageId": "polyglot-notebook"
    }
   },
   "outputs": [],
   "source": []
  },
  {
   "cell_type": "code",
   "execution_count": null,
   "metadata": {
    "dotnet_interactive": {
     "language": "csharp"
    },
    "polyglot_notebook": {
     "kernelName": "csharp"
    },
    "vscode": {
     "languageId": "polyglot-notebook"
    }
   },
   "outputs": [],
   "source": []
  },
  {
   "cell_type": "code",
   "execution_count": null,
   "metadata": {
    "dotnet_interactive": {
     "language": "csharp"
    },
    "polyglot_notebook": {
     "kernelName": "csharp"
    },
    "vscode": {
     "languageId": "polyglot-notebook"
    }
   },
   "outputs": [],
   "source": []
  },
  {
   "cell_type": "code",
   "execution_count": null,
   "metadata": {
    "dotnet_interactive": {
     "language": "csharp"
    },
    "polyglot_notebook": {
     "kernelName": "csharp"
    },
    "vscode": {
     "languageId": "polyglot-notebook"
    }
   },
   "outputs": [],
   "source": []
  },
  {
   "cell_type": "code",
   "execution_count": null,
   "metadata": {
    "dotnet_interactive": {
     "language": "csharp"
    },
    "polyglot_notebook": {
     "kernelName": "csharp"
    },
    "vscode": {
     "languageId": "polyglot-notebook"
    }
   },
   "outputs": [],
   "source": []
  },
  {
   "cell_type": "code",
   "execution_count": null,
   "metadata": {
    "dotnet_interactive": {
     "language": "csharp"
    },
    "polyglot_notebook": {
     "kernelName": "csharp"
    },
    "vscode": {
     "languageId": "polyglot-notebook"
    }
   },
   "outputs": [],
   "source": []
  },
  {
   "cell_type": "code",
   "execution_count": null,
   "metadata": {
    "dotnet_interactive": {
     "language": "csharp"
    },
    "polyglot_notebook": {
     "kernelName": "csharp"
    },
    "vscode": {
     "languageId": "polyglot-notebook"
    }
   },
   "outputs": [],
   "source": []
  },
  {
   "cell_type": "code",
   "execution_count": null,
   "metadata": {
    "dotnet_interactive": {
     "language": "csharp"
    },
    "polyglot_notebook": {
     "kernelName": "csharp"
    },
    "vscode": {
     "languageId": "polyglot-notebook"
    }
   },
   "outputs": [],
   "source": []
  },
  {
   "cell_type": "code",
   "execution_count": null,
   "metadata": {
    "dotnet_interactive": {
     "language": "csharp"
    },
    "polyglot_notebook": {
     "kernelName": "csharp"
    },
    "vscode": {
     "languageId": "polyglot-notebook"
    }
   },
   "outputs": [],
   "source": []
  },
  {
   "cell_type": "code",
   "execution_count": null,
   "metadata": {
    "dotnet_interactive": {
     "language": "csharp"
    },
    "polyglot_notebook": {
     "kernelName": "csharp"
    },
    "vscode": {
     "languageId": "polyglot-notebook"
    }
   },
   "outputs": [],
   "source": []
  },
  {
   "cell_type": "code",
   "execution_count": null,
   "metadata": {
    "dotnet_interactive": {
     "language": "csharp"
    },
    "polyglot_notebook": {
     "kernelName": "csharp"
    },
    "vscode": {
     "languageId": "polyglot-notebook"
    }
   },
   "outputs": [],
   "source": []
  },
  {
   "cell_type": "code",
   "execution_count": null,
   "metadata": {
    "dotnet_interactive": {
     "language": "csharp"
    },
    "polyglot_notebook": {
     "kernelName": "csharp"
    },
    "vscode": {
     "languageId": "polyglot-notebook"
    }
   },
   "outputs": [],
   "source": []
  },
  {
   "cell_type": "code",
   "execution_count": null,
   "metadata": {
    "dotnet_interactive": {
     "language": "csharp"
    },
    "polyglot_notebook": {
     "kernelName": "csharp"
    },
    "vscode": {
     "languageId": "polyglot-notebook"
    }
   },
   "outputs": [],
   "source": []
  },
  {
   "cell_type": "code",
   "execution_count": null,
   "metadata": {
    "dotnet_interactive": {
     "language": "csharp"
    },
    "polyglot_notebook": {
     "kernelName": "csharp"
    },
    "vscode": {
     "languageId": "polyglot-notebook"
    }
   },
   "outputs": [],
   "source": []
  },
  {
   "cell_type": "code",
   "execution_count": null,
   "metadata": {
    "dotnet_interactive": {
     "language": "csharp"
    },
    "polyglot_notebook": {
     "kernelName": "csharp"
    },
    "vscode": {
     "languageId": "polyglot-notebook"
    }
   },
   "outputs": [],
   "source": []
  },
  {
   "cell_type": "code",
   "execution_count": null,
   "metadata": {
    "dotnet_interactive": {
     "language": "csharp"
    },
    "polyglot_notebook": {
     "kernelName": "csharp"
    },
    "vscode": {
     "languageId": "polyglot-notebook"
    }
   },
   "outputs": [],
   "source": []
  },
  {
   "cell_type": "code",
   "execution_count": null,
   "metadata": {
    "dotnet_interactive": {
     "language": "csharp"
    },
    "polyglot_notebook": {
     "kernelName": "csharp"
    },
    "vscode": {
     "languageId": "polyglot-notebook"
    }
   },
   "outputs": [],
   "source": []
  },
  {
   "cell_type": "code",
   "execution_count": null,
   "metadata": {
    "dotnet_interactive": {
     "language": "csharp"
    },
    "polyglot_notebook": {
     "kernelName": "csharp"
    },
    "vscode": {
     "languageId": "polyglot-notebook"
    }
   },
   "outputs": [],
   "source": []
  },
  {
   "cell_type": "code",
   "execution_count": null,
   "metadata": {
    "dotnet_interactive": {
     "language": "csharp"
    },
    "polyglot_notebook": {
     "kernelName": "csharp"
    },
    "vscode": {
     "languageId": "polyglot-notebook"
    }
   },
   "outputs": [],
   "source": []
  },
  {
   "cell_type": "code",
   "execution_count": null,
   "metadata": {
    "dotnet_interactive": {
     "language": "csharp"
    },
    "polyglot_notebook": {
     "kernelName": "csharp"
    },
    "vscode": {
     "languageId": "polyglot-notebook"
    }
   },
   "outputs": [],
   "source": []
  },
  {
   "cell_type": "code",
   "execution_count": null,
   "metadata": {
    "dotnet_interactive": {
     "language": "csharp"
    },
    "polyglot_notebook": {
     "kernelName": "csharp"
    },
    "vscode": {
     "languageId": "polyglot-notebook"
    }
   },
   "outputs": [],
   "source": []
  },
  {
   "cell_type": "code",
   "execution_count": null,
   "metadata": {
    "dotnet_interactive": {
     "language": "csharp"
    },
    "polyglot_notebook": {
     "kernelName": "csharp"
    },
    "vscode": {
     "languageId": "polyglot-notebook"
    }
   },
   "outputs": [],
   "source": []
  },
  {
   "cell_type": "code",
   "execution_count": null,
   "metadata": {
    "dotnet_interactive": {
     "language": "csharp"
    },
    "polyglot_notebook": {
     "kernelName": "csharp"
    },
    "vscode": {
     "languageId": "polyglot-notebook"
    }
   },
   "outputs": [],
   "source": []
  },
  {
   "cell_type": "code",
   "execution_count": null,
   "metadata": {
    "dotnet_interactive": {
     "language": "csharp"
    },
    "polyglot_notebook": {
     "kernelName": "csharp"
    },
    "vscode": {
     "languageId": "polyglot-notebook"
    }
   },
   "outputs": [],
   "source": []
  },
  {
   "cell_type": "code",
   "execution_count": null,
   "metadata": {
    "dotnet_interactive": {
     "language": "csharp"
    },
    "polyglot_notebook": {
     "kernelName": "csharp"
    },
    "vscode": {
     "languageId": "polyglot-notebook"
    }
   },
   "outputs": [],
   "source": []
  }
 ],
 "metadata": {
  "language_info": {
   "name": "csharp"
  },
  "orig_nbformat": 4
 },
 "nbformat": 4,
 "nbformat_minor": 2
}
