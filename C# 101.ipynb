{
 "cells": [
  {
   "attachments": {},
   "cell_type": "markdown",
   "metadata": {},
   "source": [
    "# What do you do with this notebook?\n",
    "\n",
    "I created this notebook to help refresh my memroy with the C# language, at this current point and time I have not used the language in years and so I have forgotten a few things and the purpose of this NOtebook is to help me remmebember some of those things...\n",
    "\n",
    "The Notebook was insipred by the exercises in this link https://github.com/dotnet/csharp-notebooks/tree/main/csharp-101"
   ]
  },
  {
   "cell_type": "code",
   "execution_count": 16,
   "metadata": {
    "dotnet_interactive": {
     "language": "csharp"
    },
    "polyglot_notebook": {
     "kernelName": "csharp"
    },
    "vscode": {
     "languageId": "polyglot-notebook"
    }
   },
   "outputs": [
    {
     "name": "stdout",
     "output_type": "stream",
     "text": [
      "Hello World! I am Imani Niyigena\r\n"
     ]
    }
   ],
   "source": [
    "Console.WriteLine(\"Hello World! I am Imani Niyigena\");"
   ]
  },
  {
   "cell_type": "code",
   "execution_count": 30,
   "metadata": {
    "dotnet_interactive": {
     "language": "csharp"
    },
    "polyglot_notebook": {
     "kernelName": "csharp"
    },
    "vscode": {
     "languageId": "polyglot-notebook"
    }
   },
   "outputs": [
    {
     "name": "stdout",
     "output_type": "stream",
     "text": [
      "Mereoleona Vermillion\r\n"
     ]
    }
   ],
   "source": [
    "var aBaddie = \"Mereoleona Vermillion\";\n",
    "Console.WriteLine(aBaddie);"
   ]
  },
  {
   "cell_type": "code",
   "execution_count": 32,
   "metadata": {
    "dotnet_interactive": {
     "language": "csharp"
    },
    "polyglot_notebook": {
     "kernelName": "csharp"
    },
    "vscode": {
     "languageId": "polyglot-notebook"
    }
   },
   "outputs": [
    {
     "name": "stdout",
     "output_type": "stream",
     "text": [
      "Ya neh Mereoleona Vermillion...  She is fire...\r\n"
     ]
    }
   ],
   "source": [
    "Console.WriteLine(\"Ya neh \" + aBaddie + \"... \" + \" She is fire...\");"
   ]
  },
  {
   "cell_type": "code",
   "execution_count": 39,
   "metadata": {
    "dotnet_interactive": {
     "language": "csharp"
    },
    "polyglot_notebook": {
     "kernelName": "csharp"
    },
    "vscode": {
     "languageId": "polyglot-notebook"
    }
   },
   "outputs": [
    {
     "name": "stdout",
     "output_type": "stream",
     "text": [
      "Mereoleona Vermillion is variable used to experess String Interpolation and She is fire...!!!\r\n"
     ]
    }
   ],
   "source": [
    "// This is called string interpolation. You can then add a $ before the opening quote to enable string interpolation for the string.\n",
    "\n",
    "aBaddie = \"Mereoleona Vermillion is variable used to experess String Interpolation\";\n",
    "Console.WriteLine($\"{aBaddie} and\" + \" She is fire...!!!\");\n",
    "\n",
    "//do this by placing the variable between {and } to tell C# to replace that text with the value of the variable."
   ]
  },
  {
   "cell_type": "code",
   "execution_count": 2,
   "metadata": {
    "dotnet_interactive": {
     "language": "csharp"
    },
    "polyglot_notebook": {
     "kernelName": "csharp"
    },
    "vscode": {
     "languageId": "polyglot-notebook"
    }
   },
   "outputs": [
    {
     "name": "stdout",
     "output_type": "stream",
     "text": [
      "My friends are Satoru Gojo and Lelouch Lamperouge\r\n"
     ]
    }
   ],
   "source": [
    "//A string literal is text what represents a constant string. a constant string is string that ideally will not change\n",
    "\n",
    "string firstFriend = \"Satoru Gojo\";\n",
    "string secondFriend = \"Lelouch Lamperouge\";\n",
    "Console.WriteLine($\"My friends are {firstFriend} and {secondFriend}\");"
   ]
  },
  {
   "cell_type": "code",
   "execution_count": 3,
   "metadata": {
    "dotnet_interactive": {
     "language": "csharp"
    },
    "polyglot_notebook": {
     "kernelName": "csharp"
    },
    "vscode": {
     "languageId": "polyglot-notebook"
    }
   },
   "outputs": [
    {
     "name": "stdout",
     "output_type": "stream",
     "text": [
      "The name Satoru Gojo has 11 letters.\n",
      "The name Lelouch Lamperouge has 18 letters.\n"
     ]
    }
   ],
   "source": [
    "//You can find the length of a string using Length. Length is a property of a string and it returns the number of characters in that string.\n",
    "\n",
    "Console.WriteLine($\"The name {firstFriend} has {firstFriend.Length} letters.\");\n",
    "Console.WriteLine($\"The name {secondFriend} has {secondFriend.Length} letters.\");"
   ]
  },
  {
   "cell_type": "code",
   "execution_count": 5,
   "metadata": {
    "dotnet_interactive": {
     "language": "csharp"
    },
    "polyglot_notebook": {
     "kernelName": "csharp"
    },
    "vscode": {
     "languageId": "polyglot-notebook"
    }
   },
   "outputs": [
    {
     "name": "stdout",
     "output_type": "stream",
     "text": [
      "[      Hello World! I am Imani Niyigena       ]\n",
      "[Hello World! I am Imani Niyigena       ]\n",
      "[      Hello World! I am Imani Niyigena]\n",
      "[Hello World! I am Imani Niyigena]\n"
     ]
    }
   ],
   "source": [
    "/* Suppose your strings have leading or trailing spaces (also called white space) that you don't want to display.\n",
    "You want to trim the spaces from the strings. The Trim method and related methods TrimStart and TrimEnd do that work.\n",
    "You can just use those methods to remove leading and trailing spaces. */\n",
    "\n",
    "string greeting = \"      Hello World! I am Imani Niyigena       \";\n",
    "Console.WriteLine($\"[{greeting}]\");             // The original format of the string\n",
    "\n",
    "string trimmedGreeting = greeting.TrimStart();\n",
    "Console.WriteLine($\"[{trimmedGreeting}]\");      // The string trimmed on the left or trimmed at the starting of the string\n",
    "\n",
    "trimmedGreeting = greeting.TrimEnd();\n",
    "Console.WriteLine($\"[{trimmedGreeting}]\");      // The string trimmed on the right or trimmed at the ending of the string\n",
    "\n",
    "trimmedGreeting = greeting.Trim();\n",
    "Console.WriteLine($\"[{trimmedGreeting}]\");      // The string trimmed on the right and left or trimmed at the tarting of the string and the ending"
   ]
  },
  {
   "cell_type": "code",
   "execution_count": 9,
   "metadata": {
    "dotnet_interactive": {
     "language": "csharp"
    },
    "polyglot_notebook": {
     "kernelName": "csharp"
    },
    "vscode": {
     "languageId": "polyglot-notebook"
    }
   },
   "outputs": [
    {
     "name": "stdout",
     "output_type": "stream",
     "text": [
      "Hello World!\n",
      "Bite isi!\n"
     ]
    }
   ],
   "source": [
    "/* You can also replace substrings with other values. \n",
    "For example, in the code below, you can take \"Hello World!\" and replace \"Hello\" with \"Greetings\", to make \"Greetings World!\" */\n",
    "\n",
    "string sayHello = \"Hello World!\";\n",
    "Console.WriteLine(sayHello);\n",
    "sayHello = sayHello.Replace(\"Hello\", \"Bite\");\n",
    "sayHello = sayHello.Replace(\"World\", \"isi\");\n",
    "Console.WriteLine(sayHello);"
   ]
  },
  {
   "cell_type": "code",
   "execution_count": 14,
   "metadata": {
    "dotnet_interactive": {
     "language": "csharp"
    },
    "polyglot_notebook": {
     "kernelName": "csharp"
    },
    "vscode": {
     "languageId": "polyglot-notebook"
    }
   },
   "outputs": [
    {
     "name": "stdout",
     "output_type": "stream",
     "text": [
      "SATORU GOJO\n",
      "lelouch lamperouge\n",
      "WHISPER\n",
      "shout\n"
     ]
    }
   ],
   "source": [
    "//Sometimes you need your strings to be all UPPERCASE or all lowercase. ToUpper and ToLower do just that.\n",
    "\n",
    "Console.WriteLine(firstFriend.ToUpper());\n",
    "Console.WriteLine(secondFriend.ToLower());\n",
    "Console.WriteLine(\"WhiSPer\".ToUpper());\n",
    "Console.WriteLine(\"sHoUt\".ToLower());"
   ]
  },
  {
   "cell_type": "code",
   "execution_count": 24,
   "metadata": {
    "dotnet_interactive": {
     "language": "csharp"
    },
    "polyglot_notebook": {
     "kernelName": "csharp"
    },
    "vscode": {
     "languageId": "polyglot-notebook"
    }
   },
   "outputs": [
    {
     "name": "stdout",
     "output_type": "stream",
     "text": [
      "False\n",
      "True\n",
      "True\n",
      "False\n"
     ]
    }
   ],
   "source": [
    "/* Does your string contain another string within it? You can use Contains to find out!\n",
    "The Contains method returns a boolean. That's a type represented by the keyword bool that can hold two values: true or false.\n",
    "In this case, the method returns true when sought string is found, and false when it's not found. */\n",
    "\n",
    "string poemStanza = \"Do Not Go Gentle Into That Good Night... \";\n",
    "Console.WriteLine(poemStanza.Contains(\"good\"));\n",
    "Console.WriteLine(poemStanza.Contains(\"Good\"));\n",
    "Console.WriteLine(poemStanza.Contains(\".\"));\n",
    "Console.WriteLine(poemStanza.Contains(\"greetings\"));\n"
   ]
  },
  {
   "cell_type": "code",
   "execution_count": 27,
   "metadata": {
    "dotnet_interactive": {
     "language": "csharp"
    },
    "polyglot_notebook": {
     "kernelName": "csharp"
    },
    "vscode": {
     "languageId": "polyglot-notebook"
    }
   },
   "outputs": [
    {
     "name": "stdout",
     "output_type": "stream",
     "text": [
      "True\n",
      "False\n",
      "True\n",
      "False\n"
     ]
    }
   ],
   "source": [
    "/* StartsWith and EndsWith are methods similar to Contains, but more specific. \n",
    "They tell you if a string starts with or ends with the string you're checking. \n",
    "It has the same structure as Contains, that is: bigstring.StartsWith(substring) */\n",
    "\n",
    "Console.WriteLine(poemStanza.StartsWith(\"Do\")); //C# is case sensitive\n",
    "Console.WriteLine(poemStanza.StartsWith(\"do\")); //C# is case sensitive\n",
    "Console.WriteLine(poemStanza.EndsWith(\" \"));    //Spaces are considered as characters\n",
    "Console.WriteLine(poemStanza.EndsWith(\"...\"));  //Spaces are considered as characters"
   ]
  },
  {
   "cell_type": "code",
   "execution_count": null,
   "metadata": {
    "dotnet_interactive": {
     "language": "csharp"
    },
    "polyglot_notebook": {
     "kernelName": "csharp"
    },
    "vscode": {
     "languageId": "polyglot-notebook"
    }
   },
   "outputs": [],
   "source": []
  }
 ],
 "metadata": {
  "language_info": {
   "name": "csharp"
  },
  "orig_nbformat": 4
 },
 "nbformat": 4,
 "nbformat_minor": 2
}
